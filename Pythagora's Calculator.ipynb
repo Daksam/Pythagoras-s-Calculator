{
 "cells": [
  {
   "cell_type": "code",
   "execution_count": null,
   "id": "e4589157",
   "metadata": {},
   "outputs": [],
   "source": [
    "# importing the math library\n",
    "import math\n",
    "\n",
    "# receiving inputs from the user\n",
    "AB = float(input(\"Enter the base AB \"))\n",
    "AC = float(input(\"Enter the adjacent\"))\n",
    "\n",
    "# displaying the answer\n",
    "BC = (math.sqrt(AB**2 + AC**2))\n",
    "print(f\"The hypothenus is {BC}\" )"
   ]
  },
  {
   "cell_type": "code",
   "execution_count": null,
   "id": "56c72cdd",
   "metadata": {},
   "outputs": [],
   "source": []
  }
 ],
 "metadata": {
  "kernelspec": {
   "display_name": "Python 3 (ipykernel)",
   "language": "python",
   "name": "python3"
  },
  "language_info": {
   "codemirror_mode": {
    "name": "ipython",
    "version": 3
   },
   "file_extension": ".py",
   "mimetype": "text/x-python",
   "name": "python",
   "nbconvert_exporter": "python",
   "pygments_lexer": "ipython3",
   "version": "3.9.7"
  }
 },
 "nbformat": 4,
 "nbformat_minor": 5
}
